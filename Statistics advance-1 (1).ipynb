{
 "cells": [
  {
   "cell_type": "markdown",
   "id": "1363b904-293e-4945-b766-f2d1a0a7c1dc",
   "metadata": {},
   "source": [
    "Statistics advance-1"
   ]
  },
  {
   "cell_type": "markdown",
   "id": "02620217-1ff3-488a-95ff-7bf099d98274",
   "metadata": {},
   "source": [
    "Q1. What is the Probability density function?"
   ]
  },
  {
   "cell_type": "markdown",
   "id": "fb269896-596a-44e7-b661-ec950d774a1f",
   "metadata": {},
   "source": [
    "The Probability Density Function (PDF) is a concept used in probability theory and statistics to describe the distribution of a continuous random variable. It provides a way to understand the likelihood of the variable taking on specific values within a certain range."
   ]
  },
  {
   "cell_type": "markdown",
   "id": "df87bf61-30e9-46c0-9976-d49b51eefc03",
   "metadata": {},
   "source": [
    "Q2. What are the types of Probability distribution?"
   ]
  },
  {
   "cell_type": "markdown",
   "id": "c36f9b23-5f91-495b-89c6-6cf95ed5d8cc",
   "metadata": {},
   "source": [
    "Q2. What are the types of Probability distribution?"
   ]
  },
  {
   "cell_type": "markdown",
   "id": "e31f9d1e-59db-48e4-b8d5-59eb776ac11c",
   "metadata": {},
   "source": [
    "There are several types of probability distribution each with it own characteristic and applications.\n",
    "\n",
    "Here are some of the most commom distribution.\n",
    "\n",
    "1) Normal distribution.\n",
    "\n",
    "2) Uniform dsitribution.\n",
    "\n",
    "3) poisson distribution.\n",
    "\n",
    "4) Binomial distribution.\n",
    "\n",
    "5) Chi-square distribution."
   ]
  },
  {
   "cell_type": "markdown",
   "id": "ca6bbee6-f67e-43f5-b4cd-fd3b423b9594",
   "metadata": {},
   "source": [
    "Q3. Write a Python function to calculate the probability density function of a normal distribution with\n",
    "given mean and standard deviation at a given point."
   ]
  },
  {
   "cell_type": "code",
   "execution_count": 1,
   "id": "8614e74c-333e-42e2-9347-fb88c5897f04",
   "metadata": {},
   "outputs": [
    {
     "name": "stdout",
     "output_type": "stream",
     "text": [
      "PDF at x = 0.5: 0.3520653267642995\n"
     ]
    }
   ],
   "source": [
    "import math\n",
    "\n",
    "def normal_pdf(x, mean, std_dev):\n",
    "              \n",
    "    exponent = -(x - mean)**2 / (2 * std_dev**2)\n",
    "    pdf = (1 / (std_dev * math.sqrt(2 * math.pi))) * math.exp(exponent)\n",
    "    return pdf\n",
    "\n",
    "# Example usage\n",
    "mean = 0\n",
    "std_dev = 1\n",
    "x_value = 0.5\n",
    "pdf_value = normal_pdf(x_value, mean, std_dev)\n",
    "print(f\"PDF at x = {x_value}: {pdf_value}\")"
   ]
  },
  {
   "cell_type": "markdown",
   "id": "3814ae8b-f7a7-4e3d-aaa9-3db2d708be60",
   "metadata": {},
   "source": [
    "Q4. What are the properties of Binomial distribution? Give two examples of events where binomial\n",
    "distribution can be applied."
   ]
  },
  {
   "cell_type": "markdown",
   "id": "ef7c0f3a-4912-43db-a235-6ad9fa6b6e60",
   "metadata": {},
   "source": [
    "The binomial distribution is a probability distribution that describes the number of successes in a fixed number of independent Bernoulli trials (experiments) with the same probability of success. Here are some key properties of the binomial distribution:\n",
    "\n",
    "1) Fixed number of trials\n",
    "\n",
    "2) Two possible outcomes.\n",
    "\n",
    "3) Independent trials.\n",
    "\n",
    "4) Constant probability of success.\n",
    "\n",
    "5) Discrete outcome.\n",
    "\n"
   ]
  },
  {
   "cell_type": "markdown",
   "id": "ff2c8a88-ea11-46e9-b5bd-9ebb1dd452a2",
   "metadata": {},
   "source": [
    "Q5. Generate a random sample of size 1000 from a binomial distribution with probability of success 0.4\n",
    "and plot a histogram of the results using matplotlib."
   ]
  },
  {
   "cell_type": "code",
   "execution_count": 12,
   "id": "724ce003-371a-4139-aa22-ef454ad1e3c2",
   "metadata": {},
   "outputs": [
    {
     "data": {
      "image/png": "[encoded data removed]",
      "text/plain": [
       "<Figure size 640x480 with 1 Axes>"
      ]
     },
     "metadata": {},
     "output_type": "display_data"
    }
   ],
   "source": [
    "import numpy as np\n",
    "import matplotlib.pyplot as plt\n",
    "\n",
    "#first we take parameters for the binomial distribution\n",
    "n=1000\n",
    "p=0.4\n",
    "\n",
    "data=np.random.binomial(n,p,size=1000)\n",
    "\n",
    "plt.hist(data,bins=25,alpha=0.6,color=\"red\",density=True )\n",
    "plt.title(\"Histogram of binomial distribution\")\n",
    "plt.xlabel(\"Number of success\")\n",
    "plt.ylabel(\"Frequency\")\n",
    "#plt.grid(True)\n",
    "plt.show()"
   ]
  },
  {
   "cell_type": "markdown",
   "id": "38b03502-bc01-4135-b391-4d783cb6dcf9",
   "metadata": {},
   "source": [
    "Q6. Write a Python function to calculate the cumulative distribution function of a Poisson distribution\n",
    "with given mean at a given point."
   ]
  },
  {
   "cell_type": "code",
   "execution_count": 1,
   "id": "37a373ac-ffa5-4259-9278-abb44fb163fb",
   "metadata": {},
   "outputs": [
    {
     "name": "stdout",
     "output_type": "stream",
     "text": [
      "CDF at 2 for a Poisson distribution with mean 3.5: 0.3208\n"
     ]
    }
   ],
   "source": [
    "import math\n",
    "\n",
    "def poisson_cdf(mean, k):\n",
    "  \n",
    "    cdf = 0\n",
    "    for i in range(k + 1):\n",
    "        cdf += math.exp(-mean) * (mean ** i) / math.factorial(i)\n",
    "    return cdf\n",
    "\n",
    "# Example usage\n",
    "mean = 3.5\n",
    "point = 2\n",
    "cdf_value = poisson_cdf(mean, point)\n",
    "print(f\"CDF at {point} for a Poisson distribution with mean {mean}: {cdf_value:.4f}\")"
   ]
  },
  {
   "cell_type": "markdown",
   "id": "0eedf1fc-4612-432c-805a-d61d3482e988",
   "metadata": {},
   "source": [
    "Q7. How Binomial distribution different from Poisson distribution?"
   ]
  },
  {
   "cell_type": "markdown",
   "id": "9c191ac2-fc5a-4f1c-8bd8-333be2285dcf",
   "metadata": {},
   "source": [
    "The binomial distribution and poisson distribution are both probability distributions that describes the number of event occuring within a fixed interval.However they are used in different scenarios and have distinct characteristics.\n",
    "\n",
    "1) Definition and Use Cases:\n",
    "\n",
    "Binomial Distribution: The Binomial distribution describes the number of successes in a fixed number of independent Bernoulli trials (experiments with two possible outcomes: success or failure), where the probability of success remains constant for each trial. It's used when you have a discrete number of trials with a fixed number of successes you want to count, like the number of heads in a series of coin flips.\n",
    "\n",
    "Poisson Distribution: The Poisson distribution describes the number of events that occur in a fixed interval of time or space. It's used when you're interested in the occurrence of rare events in situations where the events are random and the average rate of occurrence is known. Common examples include the number of customer arrivals at a store in a given time period or the number of accidents on a stretch of road in a day.\n",
    "\n",
    "2) Parameters:\n",
    "\n",
    "Binomial Distribution: The Binomial distribution is characterized by two parameters: the number of trials (n) and the probability of success in a single trial (p).\n",
    "\n",
    "Poisson Distribution: The Poisson distribution is characterized by a single parameter: the average rate of events occurring (often denoted as λ, lambda).\n",
    "\n",
    "3) Number of Trials:\n",
    "\n",
    "Binomial Distribution: The number of trials is fixed and finite (n).\n",
    "\n",
    "Poisson Distribution: There is no fixed number of trials; it applies to situations with a potentially infinite number of opportunities for events to occur.\n",
    "\n",
    "4) Probability vs. Frequency:\n",
    "\n",
    "Binomial Distribution: Focuses on probabilities of different numbers of successes in a fixed number of trials.\n",
    "\n",
    "Poisson Distribution: Focuses on the frequency of events occurring within a fixed interval.\n",
    "\n",
    "5) Requirements:\n",
    "\n",
    "Binomial Distribution: Applicable when the trials are independent, and the probability of success remains constant for each trial.\n",
    "\n",
    "Poisson Distribution: Applicable when events occur randomly and are rare, with an average rate of occurrence."
   ]
  },
  {
   "cell_type": "markdown",
   "id": "2e0f8b12-2c10-4cdd-b3cf-08fe11d42869",
   "metadata": {},
   "source": [
    "Q8. Generate a random sample of size 1000 from a Poisson distribution with mean 5 and calculate the\n",
    "sample mean and variance."
   ]
  },
  {
   "cell_type": "code",
   "execution_count": 7,
   "id": "5bec6280-9229-45d4-bcae-9a1f0be5a7b8",
   "metadata": {},
   "outputs": [
    {
     "name": "stdout",
     "output_type": "stream",
     "text": [
      "Sample mean: 5.001\n",
      "Sample variance: 5.178177177177177\n"
     ]
    }
   ],
   "source": [
    "import numpy as np\n",
    "\n",
    "mean=5\n",
    "size=1000\n",
    "\n",
    "sample_data=np.random.poisson(mean,size)\n",
    "\n",
    "sample_mean=np.mean(sample_data)\n",
    "sample_variance=np.var(sample_data,ddof=1)\n",
    "# Using ddof=1 for unbiased sample variance\n",
    "\n",
    "print(f\"Sample mean: {sample_mean}\")\n",
    "print(f\"Sample variance: {sample_variance}\")"
   ]
  },
  {
   "cell_type": "markdown",
   "id": "c346f38d-2138-4249-93df-282071f1cf9a",
   "metadata": {},
   "source": [
    "Q9. How mean and variance are related in Binomial distribution and Poisson distribution?"
   ]
  },
  {
   "cell_type": "markdown",
   "id": "335ab7a8-3a78-4c2f-9b8b-a9ccf34dd761",
   "metadata": {},
   "source": [
    "Binomial Distribution:\n",
    "In a Binomial distribution, where you have a fixed number of independent trials (n) with a constant probability of success (p) in each trial, the mean (μ) and variance (σ^2) are related as follows:\n",
    "\n",
    "Mean: μ = n * p\n",
    "Variance: σ^2 = n * p * (1 - p)\n",
    "\n",
    "Poisson Distribution:\n",
    "In a Poisson distribution, which describes the number of events occurring in a fixed interval with a known average rate (λ), the mean (μ) and variance (σ^2) have a specific relationship due to the nature of the distribution:\n",
    "\n",
    "Mean: μ = λ\n",
    "Variance: σ^2 = λ"
   ]
  },
  {
   "cell_type": "markdown",
   "id": "0a8573f6-f382-470f-a903-c3eec9c8caa3",
   "metadata": {},
   "source": [
    "Q10. In normal distribution with respect to mean position, where does the least frequent data appear?"
   ]
  },
  {
   "cell_type": "markdown",
   "id": "045e20b8-23d5-44dd-bb22-3a1f5879c6aa",
   "metadata": {},
   "source": [
    "In a normal distribution (also known as a Gaussian distribution), the data is symmetrically distributed around the mean. This means that the least frequent data points appear in the tails of the distribution, farthest from the mean.\n",
    "\n",
    "It's important to note that in a perfectly symmetrical normal distribution, the least frequent data points occur at the extreme ends of the tails, equidistant from the mean. However, in real-world scenarios, the tails of the distribution can be cut off due to constraints, truncating the true tails and making them appear less infrequent."
   ]
  },
  {
   "cell_type": "code",
   "execution_count": null,
   "id": "20495911-d93a-46b3-9995-b84003ac662c",
   "metadata": {},
   "outputs": [],
   "source": []
  }
 ],
 "metadata": {
  "kernelspec": {
   "display_name": "Python 3 (ipykernel)",
   "language": "python",
   "name": "python3"
  },
  "language_info": {
   "codemirror_mode": {
    "name": "ipython",
    "version": 3
   },
   "file_extension": ".py",
   "mimetype": "text/x-python",
   "name": "python",
   "nbconvert_exporter": "python",
   "pygments_lexer": "ipython3",
   "version": "3.10.8"
  }
 },
 "nbformat": 4,
 "nbformat_minor": 5
}
